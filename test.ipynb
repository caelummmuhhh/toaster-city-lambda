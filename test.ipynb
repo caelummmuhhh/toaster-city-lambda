{
 "cells": [
  {
   "cell_type": "code",
   "execution_count": 1,
   "metadata": {},
   "outputs": [],
   "source": [
    "import json\n",
    "import sqlalchemy as sa\n",
    "import pandas as pd\n",
    "from database_provider import DatabaseProvider\n",
    "from toasterdb_orms import *\n",
    "import os"
   ]
  },
  {
   "cell_type": "code",
   "execution_count": 2,
   "metadata": {},
   "outputs": [],
   "source": [
    "username = ''\n",
    "password = ''\n",
    "host = ''\n",
    "port = ''\n",
    "database = ''\n",
    "dialect = ''\n",
    "\n",
    "database_url = f'{dialect}://{username}:{password}@{host}:{port}/{database}'\n",
    "url = ''"
   ]
  },
  {
   "cell_type": "code",
   "execution_count": 19,
   "metadata": {},
   "outputs": [],
   "source": [
    "engine = sa.create_engine(url)"
   ]
  },
  {
   "cell_type": "code",
   "execution_count": 3,
   "metadata": {},
   "outputs": [],
   "source": [
    "payment = {\n",
    "    'name': 'John Doe',\n",
    "    'card_number': '123',\n",
    "    'expiration_date': '10/20',\n",
    "    'cvv': 123,\n",
    "    'billing_address': {\n",
    "        'address_1': '123 Main St',\n",
    "        'address_2': '321 2nd Ave',\n",
    "        'city': 'Columbus',\n",
    "        'state': 'OH',\n",
    "        'zip': 43210\n",
    "    }\n",
    "}\n",
    "params = {\n",
    "    'NAME': payment['name'],\n",
    "    'CARD_NUMBER': payment['card_number'],\n",
    "    'EXPIRATION_DATE': payment['expiration_date'],\n",
    "    'CVV': payment['cvv'],\n",
    "    'ADDRESS_1': payment['billing_address']['address_1'],\n",
    "    'ADDRESS_2': payment['billing_address']['address_2'],\n",
    "    'CITY': payment['billing_address']['city'],\n",
    "    'STATE': payment['billing_address']['state'],\n",
    "    'ZIP': payment['billing_address']['zip'],\n",
    "}\n"
   ]
  },
  {
   "cell_type": "code",
   "execution_count": 26,
   "metadata": {},
   "outputs": [],
   "source": [
    "with engine.connect() as con:\n",
    "    r = con.execute(sa.select(sa.func.ifnull(sa.func.max(Inventory.item_id), 0) + 1))"
   ]
  },
  {
   "cell_type": "code",
   "execution_count": 28,
   "metadata": {},
   "outputs": [
    {
     "data": {
      "text/plain": [
       "'address_1'"
      ]
     },
     "execution_count": 28,
     "metadata": {},
     "output_type": "execute_result"
    }
   ],
   "source": []
  },
  {
   "cell_type": "code",
   "execution_count": 16,
   "metadata": {},
   "outputs": [],
   "source": []
  },
  {
   "cell_type": "code",
   "execution_count": null,
   "metadata": {},
   "outputs": [],
   "source": []
  },
  {
   "cell_type": "code",
   "execution_count": 65,
   "metadata": {},
   "outputs": [],
   "source": []
  },
  {
   "cell_type": "code",
   "execution_count": 71,
   "metadata": {},
   "outputs": [],
   "source": []
  },
  {
   "cell_type": "code",
   "execution_count": null,
   "metadata": {},
   "outputs": [],
   "source": []
  },
  {
   "cell_type": "code",
   "execution_count": 67,
   "metadata": {},
   "outputs": [],
   "source": []
  },
  {
   "cell_type": "code",
   "execution_count": null,
   "metadata": {},
   "outputs": [],
   "source": []
  },
  {
   "cell_type": "code",
   "execution_count": null,
   "metadata": {},
   "outputs": [],
   "source": []
  },
  {
   "cell_type": "code",
   "execution_count": 5,
   "metadata": {},
   "outputs": [],
   "source": [
    "null = None\n",
    "event = {\n",
    "  \"event\": {\n",
    "    \"resource\": \"/inventory-management/inventory\",\n",
    "    \"path\": \"/inventory-management/inventory\",\n",
    "    \"httpMethod\": \"GET\",\n",
    "    \"headers\": {\n",
    "      \"Accept\": \"*/*\",\n",
    "      \"Accept-Encoding\": \"gzip, deflate, br\",\n",
    "      \"Host\": \"1zpl4u5btg.execute-api.us-east-2.amazonaws.com\",\n",
    "      \"Postman-Token\": \"8d411abd-b692-4f19-8c89-6c00ef9fd898\",\n",
    "      \"User-Agent\": \"PostmanRuntime/7.42.0\",\n",
    "      \"X-Amzn-Trace-Id\": \"Root=1-671a7d4c-7b03ce6f1cd34f12487861c8\",\n",
    "      \"X-Forwarded-For\": \"140.254.77.242\",\n",
    "      \"X-Forwarded-Port\": \"443\",\n",
    "      \"X-Forwarded-Proto\": \"https\"\n",
    "    },\n",
    "    \"multiValueHeaders\": {\n",
    "      \"Accept\": [\"*/*\"],\n",
    "      \"Accept-Encoding\": [\"gzip, deflate, br\"],\n",
    "      \"Host\": [\"1zpl4u5btg.execute-api.us-east-2.amazonaws.com\"],\n",
    "      \"Postman-Token\": [\"8d411abd-b692-4f19-8c89-6c00ef9fd898\"],\n",
    "      \"User-Agent\": [\"PostmanRuntime/7.42.0\"],\n",
    "      \"X-Amzn-Trace-Id\": [\"Root=1-671a7d4c-7b03ce6f1cd34f12487861c8\"],\n",
    "      \"X-Forwarded-For\": [\"140.254.77.242\"],\n",
    "      \"X-Forwarded-Port\": [\"443\"],\n",
    "      \"X-Forwarded-Proto\": [\"https\"]\n",
    "    },\n",
    "    \"queryStringParameters\": null,\n",
    "    \"multiValueQueryStringParameters\": null,\n",
    "    \"pathParameters\": null,\n",
    "    \"stageVariables\": null,\n",
    "    \"requestContext\": {\n",
    "      \"resourceId\": \"k3wftx\",\n",
    "      \"resourcePath\": \"/inventory-management/inventory\",\n",
    "      \"httpMethod\": \"GET\",\n",
    "      \"extendedRequestId\": \"AKiEBGKIiYcEZ7A=\",\n",
    "      \"requestTime\": \"24/Oct/2024:17:01:00 +0000\",\n",
    "      \"path\": \"/Test/inventory-management/inventory\",\n",
    "      \"accountId\": \"585008064068\",\n",
    "      \"protocol\": \"HTTP/1.1\",\n",
    "      \"stage\": \"Test\",\n",
    "      \"domainPrefix\": \"1zpl4u5btg\",\n",
    "      \"requestTimeEpoch\": 1729789260559,\n",
    "      \"requestId\": \"45665557-b70e-4962-8594-897780a66031\",\n",
    "      \"identity\": {\n",
    "        \"cognitoIdentityPoolId\": null,\n",
    "        \"accountId\": null,\n",
    "        \"cognitoIdentityId\": null,\n",
    "        \"caller\": null,\n",
    "        \"sourceIp\": \"140.254.77.242\",\n",
    "        \"principalOrgId\": null,\n",
    "        \"accessKey\": null,\n",
    "        \"cognitoAuthenticationType\": null,\n",
    "        \"cognitoAuthenticationProvider\": null,\n",
    "        \"userArn\": null,\n",
    "        \"userAgent\": \"PostmanRuntime/7.42.0\",\n",
    "        \"user\": null\n",
    "      },\n",
    "      \"domainName\": \"1zpl4u5btg.execute-api.us-east-2.amazonaws.com\",\n",
    "      \"deploymentId\": \"96mgjy\",\n",
    "      \"apiId\": \"1zpl4u5btg\"\n",
    "    },\n",
    "    \"body\": null,\n",
    "    \"isBase64Encoded\": False\n",
    "  },\n",
    "  \"context\": \"LambdaContext([aws_request_id=eaa5ddda-1612-44fd-aeba-cc6a50774e58,log_group_name=/aws/lambda/toaster-city-inventory,log_stream_name=2024/10/24/[$LATEST]b4057499259649039bb52c2cae11f0d8,function_name=toaster-city-inventory,memory_limit_in_mb=128,function_version=$LATEST,invoked_function_arn=arn:aws:lambda:us-east-2:585008064068:function:toaster-city-inventory,client_context=null,identity=CognitoIdentity([cognito_identity_id=null,cognito_identity_pool_id=null])])\"\n",
    "}\n"
   ]
  },
  {
   "cell_type": "code",
   "execution_count": null,
   "metadata": {},
   "outputs": [],
   "source": []
  },
  {
   "cell_type": "code",
   "execution_count": 22,
   "metadata": {},
   "outputs": [],
   "source": []
  },
  {
   "cell_type": "code",
   "execution_count": 30,
   "metadata": {},
   "outputs": [],
   "source": []
  },
  {
   "cell_type": "code",
   "execution_count": null,
   "metadata": {},
   "outputs": [],
   "source": []
  },
  {
   "cell_type": "code",
   "execution_count": null,
   "metadata": {},
   "outputs": [],
   "source": []
  },
  {
   "cell_type": "code",
   "execution_count": null,
   "metadata": {},
   "outputs": [],
   "source": []
  }
 ],
 "metadata": {
  "kernelspec": {
   "display_name": "Python 3",
   "language": "python",
   "name": "python3"
  },
  "language_info": {
   "codemirror_mode": {
    "name": "ipython",
    "version": 3
   },
   "file_extension": ".py",
   "mimetype": "text/x-python",
   "name": "python",
   "nbconvert_exporter": "python",
   "pygments_lexer": "ipython3",
   "version": "3.12.4"
  }
 },
 "nbformat": 4,
 "nbformat_minor": 2
}
